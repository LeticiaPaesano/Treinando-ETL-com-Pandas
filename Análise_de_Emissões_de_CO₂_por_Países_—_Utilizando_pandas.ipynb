{
  "cells": [
    {
      "cell_type": "markdown",
      "metadata": {},
      "source": [
        "# ETL com o Pandas - extrair, transformar e carregar dados"
      ]
    },
    {
      "cell_type": "markdown",
      "metadata": {},
      "source": [
        "### IMPORTAÇÃO DE BIBLIOTECA"
      ]
    },
    {
      "cell_type": "code",
      "execution_count": null,
      "metadata": {
        "id": "BPFlGo1hgy5Q"
      },
      "outputs": [],
      "source": [
        "# Importando a biblioteca pandas, para o processo de ETL (Extração, Transformação e Carga de dados)\n",
        "import pandas as pd"
      ]
    },
    {
      "cell_type": "markdown",
      "metadata": {},
      "source": [
        "### EXTRAÇÃO DOS DADOS"
      ]
    },
    {
      "cell_type": "code",
      "execution_count": 39,
      "metadata": {
        "id": "pE2IDjvQhZMo"
      },
      "outputs": [],
      "source": [
        "# Definindo a URL do arquivo Excel hospedado no GitHub (dados de emissões de CO2)\n",
        "url = 'https://github.com/alura-cursos/Pandas/blob/main/emissoes_CO2.xlsx?raw=true'"
      ]
    },
    {
      "cell_type": "code",
      "execution_count": 40,
      "metadata": {
        "id": "vSN9To2Ahb0P"
      },
      "outputs": [
        {
          "data": {
            "application/vnd.microsoft.datawrangler.viewer.v0+json": {
              "columns": [
                {
                  "name": "index",
                  "rawType": "int64",
                  "type": "integer"
                },
                {
                  "name": "País",
                  "rawType": "object",
                  "type": "string"
                },
                {
                  "name": "ISO 3166-1 alpha-3",
                  "rawType": "object",
                  "type": "string"
                },
                {
                  "name": "Ano",
                  "rawType": "int64",
                  "type": "integer"
                },
                {
                  "name": "Total",
                  "rawType": "float64",
                  "type": "float"
                },
                {
                  "name": "Carvão",
                  "rawType": "float64",
                  "type": "float"
                },
                {
                  "name": "Oléo",
                  "rawType": "float64",
                  "type": "float"
                },
                {
                  "name": "Gás",
                  "rawType": "float64",
                  "type": "float"
                },
                {
                  "name": "Cimento",
                  "rawType": "float64",
                  "type": "float"
                },
                {
                  "name": "Queima",
                  "rawType": "float64",
                  "type": "float"
                },
                {
                  "name": "Outro",
                  "rawType": "float64",
                  "type": "float"
                },
                {
                  "name": "Per Capita",
                  "rawType": "float64",
                  "type": "float"
                }
              ],
              "conversionMethod": "pd.DataFrame",
              "ref": "66d31554-88e4-42e5-9df7-ae5fa45002f1",
              "rows": [
                [
                  "0",
                  "Afeganistão",
                  "AFG",
                  "1750",
                  "0.0",
                  null,
                  null,
                  null,
                  null,
                  null,
                  null,
                  null
                ],
                [
                  "1",
                  "Afeganistão",
                  "AFG",
                  "1751",
                  "0.0",
                  null,
                  null,
                  null,
                  null,
                  null,
                  null,
                  null
                ],
                [
                  "2",
                  "Afeganistão",
                  "AFG",
                  "1752",
                  "0.0",
                  null,
                  null,
                  null,
                  null,
                  null,
                  null,
                  null
                ],
                [
                  "3",
                  "Afeganistão",
                  "AFG",
                  "1753",
                  "0.0",
                  null,
                  null,
                  null,
                  null,
                  null,
                  null,
                  null
                ],
                [
                  "4",
                  "Afeganistão",
                  "AFG",
                  "1754",
                  "0.0",
                  null,
                  null,
                  null,
                  null,
                  null,
                  null,
                  null
                ]
              ],
              "shape": {
                "columns": 11,
                "rows": 5
              }
            },
            "text/html": [
              "<div>\n",
              "<style scoped>\n",
              "    .dataframe tbody tr th:only-of-type {\n",
              "        vertical-align: middle;\n",
              "    }\n",
              "\n",
              "    .dataframe tbody tr th {\n",
              "        vertical-align: top;\n",
              "    }\n",
              "\n",
              "    .dataframe thead th {\n",
              "        text-align: right;\n",
              "    }\n",
              "</style>\n",
              "<table border=\"1\" class=\"dataframe\">\n",
              "  <thead>\n",
              "    <tr style=\"text-align: right;\">\n",
              "      <th></th>\n",
              "      <th>País</th>\n",
              "      <th>ISO 3166-1 alpha-3</th>\n",
              "      <th>Ano</th>\n",
              "      <th>Total</th>\n",
              "      <th>Carvão</th>\n",
              "      <th>Oléo</th>\n",
              "      <th>Gás</th>\n",
              "      <th>Cimento</th>\n",
              "      <th>Queima</th>\n",
              "      <th>Outro</th>\n",
              "      <th>Per Capita</th>\n",
              "    </tr>\n",
              "  </thead>\n",
              "  <tbody>\n",
              "    <tr>\n",
              "      <th>0</th>\n",
              "      <td>Afeganistão</td>\n",
              "      <td>AFG</td>\n",
              "      <td>1750</td>\n",
              "      <td>0.0</td>\n",
              "      <td>NaN</td>\n",
              "      <td>NaN</td>\n",
              "      <td>NaN</td>\n",
              "      <td>NaN</td>\n",
              "      <td>NaN</td>\n",
              "      <td>NaN</td>\n",
              "      <td>NaN</td>\n",
              "    </tr>\n",
              "    <tr>\n",
              "      <th>1</th>\n",
              "      <td>Afeganistão</td>\n",
              "      <td>AFG</td>\n",
              "      <td>1751</td>\n",
              "      <td>0.0</td>\n",
              "      <td>NaN</td>\n",
              "      <td>NaN</td>\n",
              "      <td>NaN</td>\n",
              "      <td>NaN</td>\n",
              "      <td>NaN</td>\n",
              "      <td>NaN</td>\n",
              "      <td>NaN</td>\n",
              "    </tr>\n",
              "    <tr>\n",
              "      <th>2</th>\n",
              "      <td>Afeganistão</td>\n",
              "      <td>AFG</td>\n",
              "      <td>1752</td>\n",
              "      <td>0.0</td>\n",
              "      <td>NaN</td>\n",
              "      <td>NaN</td>\n",
              "      <td>NaN</td>\n",
              "      <td>NaN</td>\n",
              "      <td>NaN</td>\n",
              "      <td>NaN</td>\n",
              "      <td>NaN</td>\n",
              "    </tr>\n",
              "    <tr>\n",
              "      <th>3</th>\n",
              "      <td>Afeganistão</td>\n",
              "      <td>AFG</td>\n",
              "      <td>1753</td>\n",
              "      <td>0.0</td>\n",
              "      <td>NaN</td>\n",
              "      <td>NaN</td>\n",
              "      <td>NaN</td>\n",
              "      <td>NaN</td>\n",
              "      <td>NaN</td>\n",
              "      <td>NaN</td>\n",
              "      <td>NaN</td>\n",
              "    </tr>\n",
              "    <tr>\n",
              "      <th>4</th>\n",
              "      <td>Afeganistão</td>\n",
              "      <td>AFG</td>\n",
              "      <td>1754</td>\n",
              "      <td>0.0</td>\n",
              "      <td>NaN</td>\n",
              "      <td>NaN</td>\n",
              "      <td>NaN</td>\n",
              "      <td>NaN</td>\n",
              "      <td>NaN</td>\n",
              "      <td>NaN</td>\n",
              "      <td>NaN</td>\n",
              "    </tr>\n",
              "  </tbody>\n",
              "</table>\n",
              "</div>"
            ],
            "text/plain": [
              "          País ISO 3166-1 alpha-3   Ano  Total  Carvão  Oléo  Gás  Cimento  \\\n",
              "0  Afeganistão                AFG  1750    0.0     NaN   NaN  NaN      NaN   \n",
              "1  Afeganistão                AFG  1751    0.0     NaN   NaN  NaN      NaN   \n",
              "2  Afeganistão                AFG  1752    0.0     NaN   NaN  NaN      NaN   \n",
              "3  Afeganistão                AFG  1753    0.0     NaN   NaN  NaN      NaN   \n",
              "4  Afeganistão                AFG  1754    0.0     NaN   NaN  NaN      NaN   \n",
              "\n",
              "   Queima  Outro  Per Capita  \n",
              "0     NaN    NaN         NaN  \n",
              "1     NaN    NaN         NaN  \n",
              "2     NaN    NaN         NaN  \n",
              "3     NaN    NaN         NaN  \n",
              "4     NaN    NaN         NaN  "
            ]
          },
          "execution_count": 40,
          "metadata": {},
          "output_type": "execute_result"
        }
      ],
      "source": [
        "# Lendo a planilha principal ('emissoes_CO2') com os dados brutos\n",
        "# Essas colunas contém as emissões totais de CO2 por país e por ano\n",
        "dados_co2 = pd.read_excel(url)\n",
        "dados_co2.head()"
      ]
    },
    {
      "cell_type": "code",
      "execution_count": 41,
      "metadata": {
        "colab": {
          "base_uri": "https://localhost:8080/"
        },
        "id": "BPL25V5zhgYD",
        "outputId": "2cb68c7c-ec53-4053-8c58-117b1cea2233"
      },
      "outputs": [
        {
          "data": {
            "application/vnd.microsoft.datawrangler.viewer.v0+json": {
              "columns": [
                {
                  "name": "index",
                  "rawType": "int64",
                  "type": "integer"
                },
                {
                  "name": "País",
                  "rawType": "object",
                  "type": "string"
                },
                {
                  "name": "ISO 3166-1 alpha-3",
                  "rawType": "object",
                  "type": "string"
                },
                {
                  "name": "Ano",
                  "rawType": "int64",
                  "type": "integer"
                },
                {
                  "name": "Total",
                  "rawType": "float64",
                  "type": "float"
                },
                {
                  "name": "Carvão",
                  "rawType": "float64",
                  "type": "float"
                },
                {
                  "name": "Óleo",
                  "rawType": "float64",
                  "type": "float"
                },
                {
                  "name": "Gás",
                  "rawType": "float64",
                  "type": "float"
                },
                {
                  "name": "Cimento",
                  "rawType": "float64",
                  "type": "float"
                },
                {
                  "name": "Queima",
                  "rawType": "float64",
                  "type": "float"
                },
                {
                  "name": "Outro",
                  "rawType": "float64",
                  "type": "float"
                }
              ],
              "conversionMethod": "pd.DataFrame",
              "ref": "652057dc-4ca9-4473-b26b-ffd20b84a345",
              "rows": [
                [
                  "0",
                  "Afeganistão",
                  "AFG",
                  "1750",
                  null,
                  null,
                  null,
                  null,
                  null,
                  null,
                  null
                ],
                [
                  "1",
                  "Afeganistão",
                  "AFG",
                  "1751",
                  null,
                  null,
                  null,
                  null,
                  null,
                  null,
                  null
                ],
                [
                  "2",
                  "Afeganistão",
                  "AFG",
                  "1752",
                  null,
                  null,
                  null,
                  null,
                  null,
                  null,
                  null
                ],
                [
                  "3",
                  "Afeganistão",
                  "AFG",
                  "1753",
                  null,
                  null,
                  null,
                  null,
                  null,
                  null,
                  null
                ],
                [
                  "4",
                  "Afeganistão",
                  "AFG",
                  "1754",
                  null,
                  null,
                  null,
                  null,
                  null,
                  null,
                  null
                ]
              ],
              "shape": {
                "columns": 10,
                "rows": 5
              }
            },
            "text/html": [
              "<div>\n",
              "<style scoped>\n",
              "    .dataframe tbody tr th:only-of-type {\n",
              "        vertical-align: middle;\n",
              "    }\n",
              "\n",
              "    .dataframe tbody tr th {\n",
              "        vertical-align: top;\n",
              "    }\n",
              "\n",
              "    .dataframe thead th {\n",
              "        text-align: right;\n",
              "    }\n",
              "</style>\n",
              "<table border=\"1\" class=\"dataframe\">\n",
              "  <thead>\n",
              "    <tr style=\"text-align: right;\">\n",
              "      <th></th>\n",
              "      <th>País</th>\n",
              "      <th>ISO 3166-1 alpha-3</th>\n",
              "      <th>Ano</th>\n",
              "      <th>Total</th>\n",
              "      <th>Carvão</th>\n",
              "      <th>Óleo</th>\n",
              "      <th>Gás</th>\n",
              "      <th>Cimento</th>\n",
              "      <th>Queima</th>\n",
              "      <th>Outro</th>\n",
              "    </tr>\n",
              "  </thead>\n",
              "  <tbody>\n",
              "    <tr>\n",
              "      <th>0</th>\n",
              "      <td>Afeganistão</td>\n",
              "      <td>AFG</td>\n",
              "      <td>1750</td>\n",
              "      <td>NaN</td>\n",
              "      <td>NaN</td>\n",
              "      <td>NaN</td>\n",
              "      <td>NaN</td>\n",
              "      <td>NaN</td>\n",
              "      <td>NaN</td>\n",
              "      <td>NaN</td>\n",
              "    </tr>\n",
              "    <tr>\n",
              "      <th>1</th>\n",
              "      <td>Afeganistão</td>\n",
              "      <td>AFG</td>\n",
              "      <td>1751</td>\n",
              "      <td>NaN</td>\n",
              "      <td>NaN</td>\n",
              "      <td>NaN</td>\n",
              "      <td>NaN</td>\n",
              "      <td>NaN</td>\n",
              "      <td>NaN</td>\n",
              "      <td>NaN</td>\n",
              "    </tr>\n",
              "    <tr>\n",
              "      <th>2</th>\n",
              "      <td>Afeganistão</td>\n",
              "      <td>AFG</td>\n",
              "      <td>1752</td>\n",
              "      <td>NaN</td>\n",
              "      <td>NaN</td>\n",
              "      <td>NaN</td>\n",
              "      <td>NaN</td>\n",
              "      <td>NaN</td>\n",
              "      <td>NaN</td>\n",
              "      <td>NaN</td>\n",
              "    </tr>\n",
              "    <tr>\n",
              "      <th>3</th>\n",
              "      <td>Afeganistão</td>\n",
              "      <td>AFG</td>\n",
              "      <td>1753</td>\n",
              "      <td>NaN</td>\n",
              "      <td>NaN</td>\n",
              "      <td>NaN</td>\n",
              "      <td>NaN</td>\n",
              "      <td>NaN</td>\n",
              "      <td>NaN</td>\n",
              "      <td>NaN</td>\n",
              "    </tr>\n",
              "    <tr>\n",
              "      <th>4</th>\n",
              "      <td>Afeganistão</td>\n",
              "      <td>AFG</td>\n",
              "      <td>1754</td>\n",
              "      <td>NaN</td>\n",
              "      <td>NaN</td>\n",
              "      <td>NaN</td>\n",
              "      <td>NaN</td>\n",
              "      <td>NaN</td>\n",
              "      <td>NaN</td>\n",
              "      <td>NaN</td>\n",
              "    </tr>\n",
              "  </tbody>\n",
              "</table>\n",
              "</div>"
            ],
            "text/plain": [
              "          País ISO 3166-1 alpha-3   Ano  Total  Carvão  Óleo  Gás  Cimento  \\\n",
              "0  Afeganistão                AFG  1750    NaN     NaN   NaN  NaN      NaN   \n",
              "1  Afeganistão                AFG  1751    NaN     NaN   NaN  NaN      NaN   \n",
              "2  Afeganistão                AFG  1752    NaN     NaN   NaN  NaN      NaN   \n",
              "3  Afeganistão                AFG  1753    NaN     NaN   NaN  NaN      NaN   \n",
              "4  Afeganistão                AFG  1754    NaN     NaN   NaN  NaN      NaN   \n",
              "\n",
              "   Queima  Outro  \n",
              "0     NaN    NaN  \n",
              "1     NaN    NaN  \n",
              "2     NaN    NaN  \n",
              "3     NaN    NaN  \n",
              "4     NaN    NaN  "
            ]
          },
          "execution_count": 41,
          "metadata": {},
          "output_type": "execute_result"
        }
      ],
      "source": [
        "# Extraindo outras colunas para futura transformação (per capita e fontes de emissão)\n",
        "emissoes_percapita = pd.read_excel(url, sheet_name='emissoes_percapita')\n",
        "emissoes_percapita.head()"
      ]
    },
    {
      "cell_type": "code",
      "execution_count": 42,
      "metadata": {},
      "outputs": [
        {
          "data": {
            "application/vnd.microsoft.datawrangler.viewer.v0+json": {
              "columns": [
                {
                  "name": "index",
                  "rawType": "int64",
                  "type": "integer"
                },
                {
                  "name": "País",
                  "rawType": "object",
                  "type": "string"
                },
                {
                  "name": "ISO 3166-1 alpha-3",
                  "rawType": "object",
                  "type": "string"
                },
                {
                  "name": "Ano",
                  "rawType": "int64",
                  "type": "integer"
                },
                {
                  "name": "Total",
                  "rawType": "object",
                  "type": "string"
                },
                {
                  "name": "Carvão",
                  "rawType": "object",
                  "type": "string"
                },
                {
                  "name": "Oléo",
                  "rawType": "object",
                  "type": "string"
                },
                {
                  "name": "Gás",
                  "rawType": "object",
                  "type": "string"
                },
                {
                  "name": "Cimento",
                  "rawType": "object",
                  "type": "string"
                },
                {
                  "name": "Queima",
                  "rawType": "object",
                  "type": "string"
                },
                {
                  "name": "Outro",
                  "rawType": "object",
                  "type": "string"
                },
                {
                  "name": "Per Capita",
                  "rawType": "object",
                  "type": "string"
                }
              ],
              "conversionMethod": "pd.DataFrame",
              "ref": "2edb3d1d-0530-49be-83de-794c71473fe2",
              "rows": [
                [
                  "0",
                  "Afeganistão",
                  "AFG",
                  "1750",
                  "[NONE]",
                  "[NONE]",
                  "[NONE]",
                  "[NONE]",
                  "[NONE]",
                  "[NONE]",
                  "[NONE]",
                  "[NONE]"
                ],
                [
                  "1",
                  "Afeganistão",
                  "AFG",
                  "1751",
                  "[NONE]",
                  "[NONE]",
                  "[NONE]",
                  "[NONE]",
                  "[NONE]",
                  "[NONE]",
                  "[NONE]",
                  "[NONE]"
                ],
                [
                  "2",
                  "Afeganistão",
                  "AFG",
                  "1752",
                  "[NONE]",
                  "[NONE]",
                  "[NONE]",
                  "[NONE]",
                  "[NONE]",
                  "[NONE]",
                  "[NONE]",
                  "[NONE]"
                ],
                [
                  "3",
                  "Afeganistão",
                  "AFG",
                  "1753",
                  "[NONE]",
                  "[NONE]",
                  "[NONE]",
                  "[NONE]",
                  "[NONE]",
                  "[NONE]",
                  "[NONE]",
                  "[NONE]"
                ],
                [
                  "4",
                  "Afeganistão",
                  "AFG",
                  "1754",
                  "[NONE]",
                  "[NONE]",
                  "[NONE]",
                  "[NONE]",
                  "[NONE]",
                  "[NONE]",
                  "[NONE]",
                  "[NONE]"
                ]
              ],
              "shape": {
                "columns": 11,
                "rows": 5
              }
            },
            "text/html": [
              "<div>\n",
              "<style scoped>\n",
              "    .dataframe tbody tr th:only-of-type {\n",
              "        vertical-align: middle;\n",
              "    }\n",
              "\n",
              "    .dataframe tbody tr th {\n",
              "        vertical-align: top;\n",
              "    }\n",
              "\n",
              "    .dataframe thead th {\n",
              "        text-align: right;\n",
              "    }\n",
              "</style>\n",
              "<table border=\"1\" class=\"dataframe\">\n",
              "  <thead>\n",
              "    <tr style=\"text-align: right;\">\n",
              "      <th></th>\n",
              "      <th>País</th>\n",
              "      <th>ISO 3166-1 alpha-3</th>\n",
              "      <th>Ano</th>\n",
              "      <th>Total</th>\n",
              "      <th>Carvão</th>\n",
              "      <th>Oléo</th>\n",
              "      <th>Gás</th>\n",
              "      <th>Cimento</th>\n",
              "      <th>Queima</th>\n",
              "      <th>Outro</th>\n",
              "      <th>Per Capita</th>\n",
              "    </tr>\n",
              "  </thead>\n",
              "  <tbody>\n",
              "    <tr>\n",
              "      <th>0</th>\n",
              "      <td>Afeganistão</td>\n",
              "      <td>AFG</td>\n",
              "      <td>1750</td>\n",
              "      <td>[NONE]</td>\n",
              "      <td>[NONE]</td>\n",
              "      <td>[NONE]</td>\n",
              "      <td>[NONE]</td>\n",
              "      <td>[NONE]</td>\n",
              "      <td>[NONE]</td>\n",
              "      <td>[NONE]</td>\n",
              "      <td>[NONE]</td>\n",
              "    </tr>\n",
              "    <tr>\n",
              "      <th>1</th>\n",
              "      <td>Afeganistão</td>\n",
              "      <td>AFG</td>\n",
              "      <td>1751</td>\n",
              "      <td>[NONE]</td>\n",
              "      <td>[NONE]</td>\n",
              "      <td>[NONE]</td>\n",
              "      <td>[NONE]</td>\n",
              "      <td>[NONE]</td>\n",
              "      <td>[NONE]</td>\n",
              "      <td>[NONE]</td>\n",
              "      <td>[NONE]</td>\n",
              "    </tr>\n",
              "    <tr>\n",
              "      <th>2</th>\n",
              "      <td>Afeganistão</td>\n",
              "      <td>AFG</td>\n",
              "      <td>1752</td>\n",
              "      <td>[NONE]</td>\n",
              "      <td>[NONE]</td>\n",
              "      <td>[NONE]</td>\n",
              "      <td>[NONE]</td>\n",
              "      <td>[NONE]</td>\n",
              "      <td>[NONE]</td>\n",
              "      <td>[NONE]</td>\n",
              "      <td>[NONE]</td>\n",
              "    </tr>\n",
              "    <tr>\n",
              "      <th>3</th>\n",
              "      <td>Afeganistão</td>\n",
              "      <td>AFG</td>\n",
              "      <td>1753</td>\n",
              "      <td>[NONE]</td>\n",
              "      <td>[NONE]</td>\n",
              "      <td>[NONE]</td>\n",
              "      <td>[NONE]</td>\n",
              "      <td>[NONE]</td>\n",
              "      <td>[NONE]</td>\n",
              "      <td>[NONE]</td>\n",
              "      <td>[NONE]</td>\n",
              "    </tr>\n",
              "    <tr>\n",
              "      <th>4</th>\n",
              "      <td>Afeganistão</td>\n",
              "      <td>AFG</td>\n",
              "      <td>1754</td>\n",
              "      <td>[NONE]</td>\n",
              "      <td>[NONE]</td>\n",
              "      <td>[NONE]</td>\n",
              "      <td>[NONE]</td>\n",
              "      <td>[NONE]</td>\n",
              "      <td>[NONE]</td>\n",
              "      <td>[NONE]</td>\n",
              "      <td>[NONE]</td>\n",
              "    </tr>\n",
              "  </tbody>\n",
              "</table>\n",
              "</div>"
            ],
            "text/plain": [
              "          País ISO 3166-1 alpha-3   Ano   Total  Carvão    Oléo     Gás  \\\n",
              "0  Afeganistão                AFG  1750  [NONE]  [NONE]  [NONE]  [NONE]   \n",
              "1  Afeganistão                AFG  1751  [NONE]  [NONE]  [NONE]  [NONE]   \n",
              "2  Afeganistão                AFG  1752  [NONE]  [NONE]  [NONE]  [NONE]   \n",
              "3  Afeganistão                AFG  1753  [NONE]  [NONE]  [NONE]  [NONE]   \n",
              "4  Afeganistão                AFG  1754  [NONE]  [NONE]  [NONE]  [NONE]   \n",
              "\n",
              "  Cimento  Queima   Outro Per Capita  \n",
              "0  [NONE]  [NONE]  [NONE]     [NONE]  \n",
              "1  [NONE]  [NONE]  [NONE]     [NONE]  \n",
              "2  [NONE]  [NONE]  [NONE]     [NONE]  \n",
              "3  [NONE]  [NONE]  [NONE]     [NONE]  \n",
              "4  [NONE]  [NONE]  [NONE]     [NONE]  "
            ]
          },
          "execution_count": 42,
          "metadata": {},
          "output_type": "execute_result"
        }
      ],
      "source": [
        "fontes_emissao = pd.read_excel(url, sheet_name='fontes')\n",
        "fontes_emissao.head()"
      ]
    },
    {
      "cell_type": "markdown",
      "metadata": {},
      "source": [
        "### TRANSFORMAÇÃO DOS DADOS"
      ]
    },
    {
      "cell_type": "code",
      "execution_count": null,
      "metadata": {
        "id": "df8w3FTEiaMb"
      },
      "outputs": [
        {
          "data": {
            "application/vnd.microsoft.datawrangler.viewer.v0+json": {
              "columns": [
                {
                  "name": "index",
                  "rawType": "int64",
                  "type": "integer"
                },
                {
                  "name": "País",
                  "rawType": "object",
                  "type": "string"
                },
                {
                  "name": "ISO 3166-1 alpha-3",
                  "rawType": "object",
                  "type": "string"
                },
                {
                  "name": "Ano",
                  "rawType": "int64",
                  "type": "integer"
                },
                {
                  "name": "Total",
                  "rawType": "float64",
                  "type": "float"
                }
              ],
              "conversionMethod": "pd.DataFrame",
              "ref": "ed5da35a-3f13-4e47-9e75-d0de7d1e3fc1",
              "rows": [
                [
                  "0",
                  "Afeganistão",
                  "AFG",
                  "1750",
                  "0.0"
                ],
                [
                  "1",
                  "Afeganistão",
                  "AFG",
                  "1751",
                  "0.0"
                ],
                [
                  "2",
                  "Afeganistão",
                  "AFG",
                  "1752",
                  "0.0"
                ],
                [
                  "3",
                  "Afeganistão",
                  "AFG",
                  "1753",
                  "0.0"
                ],
                [
                  "4",
                  "Afeganistão",
                  "AFG",
                  "1754",
                  "0.0"
                ]
              ],
              "shape": {
                "columns": 4,
                "rows": 5
              }
            },
            "text/html": [
              "<div>\n",
              "<style scoped>\n",
              "    .dataframe tbody tr th:only-of-type {\n",
              "        vertical-align: middle;\n",
              "    }\n",
              "\n",
              "    .dataframe tbody tr th {\n",
              "        vertical-align: top;\n",
              "    }\n",
              "\n",
              "    .dataframe thead th {\n",
              "        text-align: right;\n",
              "    }\n",
              "</style>\n",
              "<table border=\"1\" class=\"dataframe\">\n",
              "  <thead>\n",
              "    <tr style=\"text-align: right;\">\n",
              "      <th></th>\n",
              "      <th>País</th>\n",
              "      <th>ISO 3166-1 alpha-3</th>\n",
              "      <th>Ano</th>\n",
              "      <th>Total</th>\n",
              "    </tr>\n",
              "  </thead>\n",
              "  <tbody>\n",
              "    <tr>\n",
              "      <th>0</th>\n",
              "      <td>Afeganistão</td>\n",
              "      <td>AFG</td>\n",
              "      <td>1750</td>\n",
              "      <td>0.0</td>\n",
              "    </tr>\n",
              "    <tr>\n",
              "      <th>1</th>\n",
              "      <td>Afeganistão</td>\n",
              "      <td>AFG</td>\n",
              "      <td>1751</td>\n",
              "      <td>0.0</td>\n",
              "    </tr>\n",
              "    <tr>\n",
              "      <th>2</th>\n",
              "      <td>Afeganistão</td>\n",
              "      <td>AFG</td>\n",
              "      <td>1752</td>\n",
              "      <td>0.0</td>\n",
              "    </tr>\n",
              "    <tr>\n",
              "      <th>3</th>\n",
              "      <td>Afeganistão</td>\n",
              "      <td>AFG</td>\n",
              "      <td>1753</td>\n",
              "      <td>0.0</td>\n",
              "    </tr>\n",
              "    <tr>\n",
              "      <th>4</th>\n",
              "      <td>Afeganistão</td>\n",
              "      <td>AFG</td>\n",
              "      <td>1754</td>\n",
              "      <td>0.0</td>\n",
              "    </tr>\n",
              "  </tbody>\n",
              "</table>\n",
              "</div>"
            ],
            "text/plain": [
              "          País ISO 3166-1 alpha-3   Ano  Total\n",
              "0  Afeganistão                AFG  1750    0.0\n",
              "1  Afeganistão                AFG  1751    0.0\n",
              "2  Afeganistão                AFG  1752    0.0\n",
              "3  Afeganistão                AFG  1753    0.0\n",
              "4  Afeganistão                AFG  1754    0.0"
            ]
          },
          "execution_count": 49,
          "metadata": {},
          "output_type": "execute_result"
        }
      ],
      "source": [
        "# Filtrando apenas 'emissoes_C02' (colunas A até D)\n",
        "intervalo = pd.read_excel(url, sheet_name='emissoes_C02', usecols='A:D')\n",
        "intervalo.head()"
      ]
    },
    {
      "cell_type": "code",
      "execution_count": null,
      "metadata": {
        "id": "rhg06eTrihkf"
      },
      "outputs": [
        {
          "data": {
            "application/vnd.microsoft.datawrangler.viewer.v0+json": {
              "columns": [
                {
                  "name": "index",
                  "rawType": "int64",
                  "type": "integer"
                },
                {
                  "name": "País",
                  "rawType": "object",
                  "type": "string"
                },
                {
                  "name": "ISO 3166-1 alpha-3",
                  "rawType": "object",
                  "type": "string"
                },
                {
                  "name": "Ano",
                  "rawType": "int64",
                  "type": "integer"
                },
                {
                  "name": "Total",
                  "rawType": "int64",
                  "type": "integer"
                }
              ],
              "conversionMethod": "pd.DataFrame",
              "ref": "bbfdaf9e-c66c-4be3-a446-a35a387cb8aa",
              "rows": [
                [
                  "0",
                  "Afeganistão",
                  "AFG",
                  "1750",
                  "0"
                ],
                [
                  "1",
                  "Afeganistão",
                  "AFG",
                  "1751",
                  "0"
                ],
                [
                  "2",
                  "Afeganistão",
                  "AFG",
                  "1752",
                  "0"
                ],
                [
                  "3",
                  "Afeganistão",
                  "AFG",
                  "1753",
                  "0"
                ],
                [
                  "4",
                  "Afeganistão",
                  "AFG",
                  "1754",
                  "0"
                ],
                [
                  "5",
                  "Afeganistão",
                  "AFG",
                  "1755",
                  "0"
                ],
                [
                  "6",
                  "Afeganistão",
                  "AFG",
                  "1756",
                  "0"
                ],
                [
                  "7",
                  "Afeganistão",
                  "AFG",
                  "1757",
                  "0"
                ],
                [
                  "8",
                  "Afeganistão",
                  "AFG",
                  "1758",
                  "0"
                ],
                [
                  "9",
                  "Afeganistão",
                  "AFG",
                  "1759",
                  "0"
                ]
              ],
              "shape": {
                "columns": 4,
                "rows": 10
              }
            },
            "text/html": [
              "<div>\n",
              "<style scoped>\n",
              "    .dataframe tbody tr th:only-of-type {\n",
              "        vertical-align: middle;\n",
              "    }\n",
              "\n",
              "    .dataframe tbody tr th {\n",
              "        vertical-align: top;\n",
              "    }\n",
              "\n",
              "    .dataframe thead th {\n",
              "        text-align: right;\n",
              "    }\n",
              "</style>\n",
              "<table border=\"1\" class=\"dataframe\">\n",
              "  <thead>\n",
              "    <tr style=\"text-align: right;\">\n",
              "      <th></th>\n",
              "      <th>País</th>\n",
              "      <th>ISO 3166-1 alpha-3</th>\n",
              "      <th>Ano</th>\n",
              "      <th>Total</th>\n",
              "    </tr>\n",
              "  </thead>\n",
              "  <tbody>\n",
              "    <tr>\n",
              "      <th>0</th>\n",
              "      <td>Afeganistão</td>\n",
              "      <td>AFG</td>\n",
              "      <td>1750</td>\n",
              "      <td>0</td>\n",
              "    </tr>\n",
              "    <tr>\n",
              "      <th>1</th>\n",
              "      <td>Afeganistão</td>\n",
              "      <td>AFG</td>\n",
              "      <td>1751</td>\n",
              "      <td>0</td>\n",
              "    </tr>\n",
              "    <tr>\n",
              "      <th>2</th>\n",
              "      <td>Afeganistão</td>\n",
              "      <td>AFG</td>\n",
              "      <td>1752</td>\n",
              "      <td>0</td>\n",
              "    </tr>\n",
              "    <tr>\n",
              "      <th>3</th>\n",
              "      <td>Afeganistão</td>\n",
              "      <td>AFG</td>\n",
              "      <td>1753</td>\n",
              "      <td>0</td>\n",
              "    </tr>\n",
              "    <tr>\n",
              "      <th>4</th>\n",
              "      <td>Afeganistão</td>\n",
              "      <td>AFG</td>\n",
              "      <td>1754</td>\n",
              "      <td>0</td>\n",
              "    </tr>\n",
              "    <tr>\n",
              "      <th>5</th>\n",
              "      <td>Afeganistão</td>\n",
              "      <td>AFG</td>\n",
              "      <td>1755</td>\n",
              "      <td>0</td>\n",
              "    </tr>\n",
              "    <tr>\n",
              "      <th>6</th>\n",
              "      <td>Afeganistão</td>\n",
              "      <td>AFG</td>\n",
              "      <td>1756</td>\n",
              "      <td>0</td>\n",
              "    </tr>\n",
              "    <tr>\n",
              "      <th>7</th>\n",
              "      <td>Afeganistão</td>\n",
              "      <td>AFG</td>\n",
              "      <td>1757</td>\n",
              "      <td>0</td>\n",
              "    </tr>\n",
              "    <tr>\n",
              "      <th>8</th>\n",
              "      <td>Afeganistão</td>\n",
              "      <td>AFG</td>\n",
              "      <td>1758</td>\n",
              "      <td>0</td>\n",
              "    </tr>\n",
              "    <tr>\n",
              "      <th>9</th>\n",
              "      <td>Afeganistão</td>\n",
              "      <td>AFG</td>\n",
              "      <td>1759</td>\n",
              "      <td>0</td>\n",
              "    </tr>\n",
              "  </tbody>\n",
              "</table>\n",
              "</div>"
            ],
            "text/plain": [
              "          País ISO 3166-1 alpha-3   Ano  Total\n",
              "0  Afeganistão                AFG  1750      0\n",
              "1  Afeganistão                AFG  1751      0\n",
              "2  Afeganistão                AFG  1752      0\n",
              "3  Afeganistão                AFG  1753      0\n",
              "4  Afeganistão                AFG  1754      0\n",
              "5  Afeganistão                AFG  1755      0\n",
              "6  Afeganistão                AFG  1756      0\n",
              "7  Afeganistão                AFG  1757      0\n",
              "8  Afeganistão                AFG  1758      0\n",
              "9  Afeganistão                AFG  1759      0"
            ]
          },
          "execution_count": 50,
          "metadata": {},
          "output_type": "execute_result"
        }
      ],
      "source": [
        "#  Leitura das 10 primeiras linhas da aba 'emissoes_C02'\n",
        "intervalo_2 = pd.read_excel(url, sheet_name='emissoes_C02', usecols= 'A:D', nrows=10)\n",
        "intervalo_2"
      ]
    },
    {
      "cell_type": "markdown",
      "metadata": {},
      "source": [
        "# Exportação para Excel"
      ]
    },
    {
      "cell_type": "code",
      "execution_count": 52,
      "metadata": {},
      "outputs": [
        {
          "data": {
            "application/vnd.microsoft.datawrangler.viewer.v0+json": {
              "columns": [
                {
                  "name": "index",
                  "rawType": "int64",
                  "type": "integer"
                },
                {
                  "name": "País",
                  "rawType": "object",
                  "type": "string"
                },
                {
                  "name": "ISO 3166-1 alpha-3",
                  "rawType": "object",
                  "type": "unknown"
                },
                {
                  "name": "Ano",
                  "rawType": "int64",
                  "type": "integer"
                },
                {
                  "name": "Total",
                  "rawType": "float64",
                  "type": "float"
                },
                {
                  "name": "Carvão",
                  "rawType": "float64",
                  "type": "float"
                },
                {
                  "name": "Óleo",
                  "rawType": "float64",
                  "type": "float"
                },
                {
                  "name": "Gás",
                  "rawType": "float64",
                  "type": "float"
                },
                {
                  "name": "Cimento",
                  "rawType": "float64",
                  "type": "float"
                },
                {
                  "name": "Queima",
                  "rawType": "float64",
                  "type": "float"
                },
                {
                  "name": "Outro",
                  "rawType": "float64",
                  "type": "float"
                }
              ],
              "conversionMethod": "pd.DataFrame",
              "ref": "206facf8-5eb7-4e3d-bcb9-ce86de28ac54",
              "rows": [
                [
                  "0",
                  "Afeganistão",
                  "AFG",
                  "1750",
                  null,
                  null,
                  null,
                  null,
                  null,
                  null,
                  null
                ],
                [
                  "1",
                  "Afeganistão",
                  "AFG",
                  "1751",
                  null,
                  null,
                  null,
                  null,
                  null,
                  null,
                  null
                ],
                [
                  "2",
                  "Afeganistão",
                  "AFG",
                  "1752",
                  null,
                  null,
                  null,
                  null,
                  null,
                  null,
                  null
                ],
                [
                  "3",
                  "Afeganistão",
                  "AFG",
                  "1753",
                  null,
                  null,
                  null,
                  null,
                  null,
                  null,
                  null
                ],
                [
                  "4",
                  "Afeganistão",
                  "AFG",
                  "1754",
                  null,
                  null,
                  null,
                  null,
                  null,
                  null,
                  null
                ],
                [
                  "5",
                  "Afeganistão",
                  "AFG",
                  "1755",
                  null,
                  null,
                  null,
                  null,
                  null,
                  null,
                  null
                ],
                [
                  "6",
                  "Afeganistão",
                  "AFG",
                  "1756",
                  null,
                  null,
                  null,
                  null,
                  null,
                  null,
                  null
                ],
                [
                  "7",
                  "Afeganistão",
                  "AFG",
                  "1757",
                  null,
                  null,
                  null,
                  null,
                  null,
                  null,
                  null
                ],
                [
                  "8",
                  "Afeganistão",
                  "AFG",
                  "1758",
                  null,
                  null,
                  null,
                  null,
                  null,
                  null,
                  null
                ],
                [
                  "9",
                  "Afeganistão",
                  "AFG",
                  "1759",
                  null,
                  null,
                  null,
                  null,
                  null,
                  null,
                  null
                ],
                [
                  "10",
                  "Afeganistão",
                  "AFG",
                  "1760",
                  null,
                  null,
                  null,
                  null,
                  null,
                  null,
                  null
                ],
                [
                  "11",
                  "Afeganistão",
                  "AFG",
                  "1761",
                  null,
                  null,
                  null,
                  null,
                  null,
                  null,
                  null
                ],
                [
                  "12",
                  "Afeganistão",
                  "AFG",
                  "1762",
                  null,
                  null,
                  null,
                  null,
                  null,
                  null,
                  null
                ],
                [
                  "13",
                  "Afeganistão",
                  "AFG",
                  "1763",
                  null,
                  null,
                  null,
                  null,
                  null,
                  null,
                  null
                ],
                [
                  "14",
                  "Afeganistão",
                  "AFG",
                  "1764",
                  null,
                  null,
                  null,
                  null,
                  null,
                  null,
                  null
                ],
                [
                  "15",
                  "Afeganistão",
                  "AFG",
                  "1765",
                  null,
                  null,
                  null,
                  null,
                  null,
                  null,
                  null
                ],
                [
                  "16",
                  "Afeganistão",
                  "AFG",
                  "1766",
                  null,
                  null,
                  null,
                  null,
                  null,
                  null,
                  null
                ],
                [
                  "17",
                  "Afeganistão",
                  "AFG",
                  "1767",
                  null,
                  null,
                  null,
                  null,
                  null,
                  null,
                  null
                ],
                [
                  "18",
                  "Afeganistão",
                  "AFG",
                  "1768",
                  null,
                  null,
                  null,
                  null,
                  null,
                  null,
                  null
                ],
                [
                  "19",
                  "Afeganistão",
                  "AFG",
                  "1769",
                  null,
                  null,
                  null,
                  null,
                  null,
                  null,
                  null
                ],
                [
                  "20",
                  "Afeganistão",
                  "AFG",
                  "1770",
                  null,
                  null,
                  null,
                  null,
                  null,
                  null,
                  null
                ],
                [
                  "21",
                  "Afeganistão",
                  "AFG",
                  "1771",
                  null,
                  null,
                  null,
                  null,
                  null,
                  null,
                  null
                ],
                [
                  "22",
                  "Afeganistão",
                  "AFG",
                  "1772",
                  null,
                  null,
                  null,
                  null,
                  null,
                  null,
                  null
                ],
                [
                  "23",
                  "Afeganistão",
                  "AFG",
                  "1773",
                  null,
                  null,
                  null,
                  null,
                  null,
                  null,
                  null
                ],
                [
                  "24",
                  "Afeganistão",
                  "AFG",
                  "1774",
                  null,
                  null,
                  null,
                  null,
                  null,
                  null,
                  null
                ],
                [
                  "25",
                  "Afeganistão",
                  "AFG",
                  "1775",
                  null,
                  null,
                  null,
                  null,
                  null,
                  null,
                  null
                ],
                [
                  "26",
                  "Afeganistão",
                  "AFG",
                  "1776",
                  null,
                  null,
                  null,
                  null,
                  null,
                  null,
                  null
                ],
                [
                  "27",
                  "Afeganistão",
                  "AFG",
                  "1777",
                  null,
                  null,
                  null,
                  null,
                  null,
                  null,
                  null
                ],
                [
                  "28",
                  "Afeganistão",
                  "AFG",
                  "1778",
                  null,
                  null,
                  null,
                  null,
                  null,
                  null,
                  null
                ],
                [
                  "29",
                  "Afeganistão",
                  "AFG",
                  "1779",
                  null,
                  null,
                  null,
                  null,
                  null,
                  null,
                  null
                ],
                [
                  "30",
                  "Afeganistão",
                  "AFG",
                  "1780",
                  null,
                  null,
                  null,
                  null,
                  null,
                  null,
                  null
                ],
                [
                  "31",
                  "Afeganistão",
                  "AFG",
                  "1781",
                  null,
                  null,
                  null,
                  null,
                  null,
                  null,
                  null
                ],
                [
                  "32",
                  "Afeganistão",
                  "AFG",
                  "1782",
                  null,
                  null,
                  null,
                  null,
                  null,
                  null,
                  null
                ],
                [
                  "33",
                  "Afeganistão",
                  "AFG",
                  "1783",
                  null,
                  null,
                  null,
                  null,
                  null,
                  null,
                  null
                ],
                [
                  "34",
                  "Afeganistão",
                  "AFG",
                  "1784",
                  null,
                  null,
                  null,
                  null,
                  null,
                  null,
                  null
                ],
                [
                  "35",
                  "Afeganistão",
                  "AFG",
                  "1785",
                  null,
                  null,
                  null,
                  null,
                  null,
                  null,
                  null
                ],
                [
                  "36",
                  "Afeganistão",
                  "AFG",
                  "1786",
                  null,
                  null,
                  null,
                  null,
                  null,
                  null,
                  null
                ],
                [
                  "37",
                  "Afeganistão",
                  "AFG",
                  "1787",
                  null,
                  null,
                  null,
                  null,
                  null,
                  null,
                  null
                ],
                [
                  "38",
                  "Afeganistão",
                  "AFG",
                  "1788",
                  null,
                  null,
                  null,
                  null,
                  null,
                  null,
                  null
                ],
                [
                  "39",
                  "Afeganistão",
                  "AFG",
                  "1789",
                  null,
                  null,
                  null,
                  null,
                  null,
                  null,
                  null
                ],
                [
                  "40",
                  "Afeganistão",
                  "AFG",
                  "1790",
                  null,
                  null,
                  null,
                  null,
                  null,
                  null,
                  null
                ],
                [
                  "41",
                  "Afeganistão",
                  "AFG",
                  "1791",
                  null,
                  null,
                  null,
                  null,
                  null,
                  null,
                  null
                ],
                [
                  "42",
                  "Afeganistão",
                  "AFG",
                  "1792",
                  null,
                  null,
                  null,
                  null,
                  null,
                  null,
                  null
                ],
                [
                  "43",
                  "Afeganistão",
                  "AFG",
                  "1793",
                  null,
                  null,
                  null,
                  null,
                  null,
                  null,
                  null
                ],
                [
                  "44",
                  "Afeganistão",
                  "AFG",
                  "1794",
                  null,
                  null,
                  null,
                  null,
                  null,
                  null,
                  null
                ],
                [
                  "45",
                  "Afeganistão",
                  "AFG",
                  "1795",
                  null,
                  null,
                  null,
                  null,
                  null,
                  null,
                  null
                ],
                [
                  "46",
                  "Afeganistão",
                  "AFG",
                  "1796",
                  null,
                  null,
                  null,
                  null,
                  null,
                  null,
                  null
                ],
                [
                  "47",
                  "Afeganistão",
                  "AFG",
                  "1797",
                  null,
                  null,
                  null,
                  null,
                  null,
                  null,
                  null
                ],
                [
                  "48",
                  "Afeganistão",
                  "AFG",
                  "1798",
                  null,
                  null,
                  null,
                  null,
                  null,
                  null,
                  null
                ],
                [
                  "49",
                  "Afeganistão",
                  "AFG",
                  "1799",
                  null,
                  null,
                  null,
                  null,
                  null,
                  null,
                  null
                ]
              ],
              "shape": {
                "columns": 10,
                "rows": 63104
              }
            },
            "text/html": [
              "<div>\n",
              "<style scoped>\n",
              "    .dataframe tbody tr th:only-of-type {\n",
              "        vertical-align: middle;\n",
              "    }\n",
              "\n",
              "    .dataframe tbody tr th {\n",
              "        vertical-align: top;\n",
              "    }\n",
              "\n",
              "    .dataframe thead th {\n",
              "        text-align: right;\n",
              "    }\n",
              "</style>\n",
              "<table border=\"1\" class=\"dataframe\">\n",
              "  <thead>\n",
              "    <tr style=\"text-align: right;\">\n",
              "      <th></th>\n",
              "      <th>País</th>\n",
              "      <th>ISO 3166-1 alpha-3</th>\n",
              "      <th>Ano</th>\n",
              "      <th>Total</th>\n",
              "      <th>Carvão</th>\n",
              "      <th>Óleo</th>\n",
              "      <th>Gás</th>\n",
              "      <th>Cimento</th>\n",
              "      <th>Queima</th>\n",
              "      <th>Outro</th>\n",
              "    </tr>\n",
              "  </thead>\n",
              "  <tbody>\n",
              "    <tr>\n",
              "      <th>0</th>\n",
              "      <td>Afeganistão</td>\n",
              "      <td>AFG</td>\n",
              "      <td>1750</td>\n",
              "      <td>NaN</td>\n",
              "      <td>NaN</td>\n",
              "      <td>NaN</td>\n",
              "      <td>NaN</td>\n",
              "      <td>NaN</td>\n",
              "      <td>NaN</td>\n",
              "      <td>NaN</td>\n",
              "    </tr>\n",
              "    <tr>\n",
              "      <th>1</th>\n",
              "      <td>Afeganistão</td>\n",
              "      <td>AFG</td>\n",
              "      <td>1751</td>\n",
              "      <td>NaN</td>\n",
              "      <td>NaN</td>\n",
              "      <td>NaN</td>\n",
              "      <td>NaN</td>\n",
              "      <td>NaN</td>\n",
              "      <td>NaN</td>\n",
              "      <td>NaN</td>\n",
              "    </tr>\n",
              "    <tr>\n",
              "      <th>2</th>\n",
              "      <td>Afeganistão</td>\n",
              "      <td>AFG</td>\n",
              "      <td>1752</td>\n",
              "      <td>NaN</td>\n",
              "      <td>NaN</td>\n",
              "      <td>NaN</td>\n",
              "      <td>NaN</td>\n",
              "      <td>NaN</td>\n",
              "      <td>NaN</td>\n",
              "      <td>NaN</td>\n",
              "    </tr>\n",
              "    <tr>\n",
              "      <th>3</th>\n",
              "      <td>Afeganistão</td>\n",
              "      <td>AFG</td>\n",
              "      <td>1753</td>\n",
              "      <td>NaN</td>\n",
              "      <td>NaN</td>\n",
              "      <td>NaN</td>\n",
              "      <td>NaN</td>\n",
              "      <td>NaN</td>\n",
              "      <td>NaN</td>\n",
              "      <td>NaN</td>\n",
              "    </tr>\n",
              "    <tr>\n",
              "      <th>4</th>\n",
              "      <td>Afeganistão</td>\n",
              "      <td>AFG</td>\n",
              "      <td>1754</td>\n",
              "      <td>NaN</td>\n",
              "      <td>NaN</td>\n",
              "      <td>NaN</td>\n",
              "      <td>NaN</td>\n",
              "      <td>NaN</td>\n",
              "      <td>NaN</td>\n",
              "      <td>NaN</td>\n",
              "    </tr>\n",
              "    <tr>\n",
              "      <th>...</th>\n",
              "      <td>...</td>\n",
              "      <td>...</td>\n",
              "      <td>...</td>\n",
              "      <td>...</td>\n",
              "      <td>...</td>\n",
              "      <td>...</td>\n",
              "      <td>...</td>\n",
              "      <td>...</td>\n",
              "      <td>...</td>\n",
              "      <td>...</td>\n",
              "    </tr>\n",
              "    <tr>\n",
              "      <th>63099</th>\n",
              "      <td>Global</td>\n",
              "      <td>WLD</td>\n",
              "      <td>2017</td>\n",
              "      <td>4749682.0</td>\n",
              "      <td>1908857.0</td>\n",
              "      <td>1610910.0</td>\n",
              "      <td>940144.0</td>\n",
              "      <td>198416.0</td>\n",
              "      <td>51579.0</td>\n",
              "      <td>39776.0</td>\n",
              "    </tr>\n",
              "    <tr>\n",
              "      <th>63100</th>\n",
              "      <td>Global</td>\n",
              "      <td>WLD</td>\n",
              "      <td>2018</td>\n",
              "      <td>4792753.0</td>\n",
              "      <td>1919213.0</td>\n",
              "      <td>1596350.0</td>\n",
              "      <td>979965.0</td>\n",
              "      <td>204225.0</td>\n",
              "      <td>53634.0</td>\n",
              "      <td>39366.0</td>\n",
              "    </tr>\n",
              "    <tr>\n",
              "      <th>63101</th>\n",
              "      <td>Global</td>\n",
              "      <td>WLD</td>\n",
              "      <td>2019</td>\n",
              "      <td>4775633.0</td>\n",
              "      <td>1896468.0</td>\n",
              "      <td>1589920.0</td>\n",
              "      <td>984878.0</td>\n",
              "      <td>208309.0</td>\n",
              "      <td>56569.0</td>\n",
              "      <td>39490.0</td>\n",
              "    </tr>\n",
              "    <tr>\n",
              "      <th>63102</th>\n",
              "      <td>Global</td>\n",
              "      <td>WLD</td>\n",
              "      <td>2020</td>\n",
              "      <td>4497423.0</td>\n",
              "      <td>1807760.0</td>\n",
              "      <td>1427353.0</td>\n",
              "      <td>963695.0</td>\n",
              "      <td>208844.0</td>\n",
              "      <td>51981.0</td>\n",
              "      <td>37789.0</td>\n",
              "    </tr>\n",
              "    <tr>\n",
              "      <th>63103</th>\n",
              "      <td>Global</td>\n",
              "      <td>WLD</td>\n",
              "      <td>2021</td>\n",
              "      <td>4693699.0</td>\n",
              "      <td>1893923.0</td>\n",
              "      <td>1496614.0</td>\n",
              "      <td>1001585.0</td>\n",
              "      <td>211472.0</td>\n",
              "      <td>52663.0</td>\n",
              "      <td>37443.0</td>\n",
              "    </tr>\n",
              "  </tbody>\n",
              "</table>\n",
              "<p>63104 rows × 10 columns</p>\n",
              "</div>"
            ],
            "text/plain": [
              "              País ISO 3166-1 alpha-3   Ano      Total     Carvão       Óleo  \\\n",
              "0      Afeganistão                AFG  1750        NaN        NaN        NaN   \n",
              "1      Afeganistão                AFG  1751        NaN        NaN        NaN   \n",
              "2      Afeganistão                AFG  1752        NaN        NaN        NaN   \n",
              "3      Afeganistão                AFG  1753        NaN        NaN        NaN   \n",
              "4      Afeganistão                AFG  1754        NaN        NaN        NaN   \n",
              "...            ...                ...   ...        ...        ...        ...   \n",
              "63099       Global                WLD  2017  4749682.0  1908857.0  1610910.0   \n",
              "63100       Global                WLD  2018  4792753.0  1919213.0  1596350.0   \n",
              "63101       Global                WLD  2019  4775633.0  1896468.0  1589920.0   \n",
              "63102       Global                WLD  2020  4497423.0  1807760.0  1427353.0   \n",
              "63103       Global                WLD  2021  4693699.0  1893923.0  1496614.0   \n",
              "\n",
              "             Gás   Cimento   Queima    Outro  \n",
              "0            NaN       NaN      NaN      NaN  \n",
              "1            NaN       NaN      NaN      NaN  \n",
              "2            NaN       NaN      NaN      NaN  \n",
              "3            NaN       NaN      NaN      NaN  \n",
              "4            NaN       NaN      NaN      NaN  \n",
              "...          ...       ...      ...      ...  \n",
              "63099   940144.0  198416.0  51579.0  39776.0  \n",
              "63100   979965.0  204225.0  53634.0  39366.0  \n",
              "63101   984878.0  208309.0  56569.0  39490.0  \n",
              "63102   963695.0  208844.0  51981.0  37789.0  \n",
              "63103  1001585.0  211472.0  52663.0  37443.0  \n",
              "\n",
              "[63104 rows x 10 columns]"
            ]
          },
          "execution_count": 52,
          "metadata": {},
          "output_type": "execute_result"
        }
      ],
      "source": [
        "# Escrevendo o arquivo Excel localmente (sem o índice)\n",
        "percapita.to_excel('co2_percapita.xlsx', index=False)\n",
        "\n",
        "# Lendo o arquivo gerado\n",
        "pd.read_excel('co2_percapita.xlsx')\n"
      ]
    },
    {
      "cell_type": "markdown",
      "metadata": {},
      "source": [
        "# Leitura de dados do Google Sheets"
      ]
    },
    {
      "cell_type": "code",
      "execution_count": null,
      "metadata": {},
      "outputs": [],
      "source": [
        "sheet_id = '1lzq0k-41-MbbS63C3Q9i1wPvLkSJt9zhr4Jolt1vEog'\n",
        "url = f'https://docs.google.com/spreadsheets/d/{sheet_id}/gviz/tq?tqx=out:csv&sheet=emissoes_CO2'"
      ]
    },
    {
      "cell_type": "code",
      "execution_count": 54,
      "metadata": {},
      "outputs": [
        {
          "data": {
            "application/vnd.microsoft.datawrangler.viewer.v0+json": {
              "columns": [
                {
                  "name": "index",
                  "rawType": "int64",
                  "type": "integer"
                },
                {
                  "name": "País",
                  "rawType": "object",
                  "type": "string"
                },
                {
                  "name": "ISO 3166-1 alpha-3",
                  "rawType": "object",
                  "type": "string"
                },
                {
                  "name": "Ano",
                  "rawType": "int64",
                  "type": "integer"
                },
                {
                  "name": "Total",
                  "rawType": "object",
                  "type": "string"
                },
                {
                  "name": "Carvão",
                  "rawType": "object",
                  "type": "unknown"
                },
                {
                  "name": "Oléo",
                  "rawType": "object",
                  "type": "unknown"
                },
                {
                  "name": "Gás",
                  "rawType": "object",
                  "type": "unknown"
                },
                {
                  "name": "Cimento",
                  "rawType": "object",
                  "type": "unknown"
                },
                {
                  "name": "Queima",
                  "rawType": "object",
                  "type": "unknown"
                },
                {
                  "name": "Outro",
                  "rawType": "object",
                  "type": "unknown"
                },
                {
                  "name": "Per Capita",
                  "rawType": "object",
                  "type": "unknown"
                }
              ],
              "conversionMethod": "pd.DataFrame",
              "ref": "cd38f575-b4c6-4c6f-9cf0-cab8ad25c615",
              "rows": [
                [
                  "0",
                  "Afeganistão",
                  "AFG",
                  "1750",
                  "0",
                  null,
                  null,
                  null,
                  null,
                  null,
                  null,
                  null
                ],
                [
                  "1",
                  "Afeganistão",
                  "AFG",
                  "1751",
                  "0",
                  null,
                  null,
                  null,
                  null,
                  null,
                  null,
                  null
                ],
                [
                  "2",
                  "Afeganistão",
                  "AFG",
                  "1752",
                  "0",
                  null,
                  null,
                  null,
                  null,
                  null,
                  null,
                  null
                ],
                [
                  "3",
                  "Afeganistão",
                  "AFG",
                  "1753",
                  "0",
                  null,
                  null,
                  null,
                  null,
                  null,
                  null,
                  null
                ],
                [
                  "4",
                  "Afeganistão",
                  "AFG",
                  "1754",
                  "0",
                  null,
                  null,
                  null,
                  null,
                  null,
                  null,
                  null
                ]
              ],
              "shape": {
                "columns": 11,
                "rows": 5
              }
            },
            "text/html": [
              "<div>\n",
              "<style scoped>\n",
              "    .dataframe tbody tr th:only-of-type {\n",
              "        vertical-align: middle;\n",
              "    }\n",
              "\n",
              "    .dataframe tbody tr th {\n",
              "        vertical-align: top;\n",
              "    }\n",
              "\n",
              "    .dataframe thead th {\n",
              "        text-align: right;\n",
              "    }\n",
              "</style>\n",
              "<table border=\"1\" class=\"dataframe\">\n",
              "  <thead>\n",
              "    <tr style=\"text-align: right;\">\n",
              "      <th></th>\n",
              "      <th>País</th>\n",
              "      <th>ISO 3166-1 alpha-3</th>\n",
              "      <th>Ano</th>\n",
              "      <th>Total</th>\n",
              "      <th>Carvão</th>\n",
              "      <th>Oléo</th>\n",
              "      <th>Gás</th>\n",
              "      <th>Cimento</th>\n",
              "      <th>Queima</th>\n",
              "      <th>Outro</th>\n",
              "      <th>Per Capita</th>\n",
              "    </tr>\n",
              "  </thead>\n",
              "  <tbody>\n",
              "    <tr>\n",
              "      <th>0</th>\n",
              "      <td>Afeganistão</td>\n",
              "      <td>AFG</td>\n",
              "      <td>1750</td>\n",
              "      <td>0</td>\n",
              "      <td>NaN</td>\n",
              "      <td>NaN</td>\n",
              "      <td>NaN</td>\n",
              "      <td>NaN</td>\n",
              "      <td>NaN</td>\n",
              "      <td>NaN</td>\n",
              "      <td>NaN</td>\n",
              "    </tr>\n",
              "    <tr>\n",
              "      <th>1</th>\n",
              "      <td>Afeganistão</td>\n",
              "      <td>AFG</td>\n",
              "      <td>1751</td>\n",
              "      <td>0</td>\n",
              "      <td>NaN</td>\n",
              "      <td>NaN</td>\n",
              "      <td>NaN</td>\n",
              "      <td>NaN</td>\n",
              "      <td>NaN</td>\n",
              "      <td>NaN</td>\n",
              "      <td>NaN</td>\n",
              "    </tr>\n",
              "    <tr>\n",
              "      <th>2</th>\n",
              "      <td>Afeganistão</td>\n",
              "      <td>AFG</td>\n",
              "      <td>1752</td>\n",
              "      <td>0</td>\n",
              "      <td>NaN</td>\n",
              "      <td>NaN</td>\n",
              "      <td>NaN</td>\n",
              "      <td>NaN</td>\n",
              "      <td>NaN</td>\n",
              "      <td>NaN</td>\n",
              "      <td>NaN</td>\n",
              "    </tr>\n",
              "    <tr>\n",
              "      <th>3</th>\n",
              "      <td>Afeganistão</td>\n",
              "      <td>AFG</td>\n",
              "      <td>1753</td>\n",
              "      <td>0</td>\n",
              "      <td>NaN</td>\n",
              "      <td>NaN</td>\n",
              "      <td>NaN</td>\n",
              "      <td>NaN</td>\n",
              "      <td>NaN</td>\n",
              "      <td>NaN</td>\n",
              "      <td>NaN</td>\n",
              "    </tr>\n",
              "    <tr>\n",
              "      <th>4</th>\n",
              "      <td>Afeganistão</td>\n",
              "      <td>AFG</td>\n",
              "      <td>1754</td>\n",
              "      <td>0</td>\n",
              "      <td>NaN</td>\n",
              "      <td>NaN</td>\n",
              "      <td>NaN</td>\n",
              "      <td>NaN</td>\n",
              "      <td>NaN</td>\n",
              "      <td>NaN</td>\n",
              "      <td>NaN</td>\n",
              "    </tr>\n",
              "  </tbody>\n",
              "</table>\n",
              "</div>"
            ],
            "text/plain": [
              "          País ISO 3166-1 alpha-3   Ano Total Carvão Oléo  Gás Cimento Queima  \\\n",
              "0  Afeganistão                AFG  1750     0    NaN  NaN  NaN     NaN    NaN   \n",
              "1  Afeganistão                AFG  1751     0    NaN  NaN  NaN     NaN    NaN   \n",
              "2  Afeganistão                AFG  1752     0    NaN  NaN  NaN     NaN    NaN   \n",
              "3  Afeganistão                AFG  1753     0    NaN  NaN  NaN     NaN    NaN   \n",
              "4  Afeganistão                AFG  1754     0    NaN  NaN  NaN     NaN    NaN   \n",
              "\n",
              "  Outro Per Capita  \n",
              "0   NaN        NaN  \n",
              "1   NaN        NaN  \n",
              "2   NaN        NaN  \n",
              "3   NaN        NaN  \n",
              "4   NaN        NaN  "
            ]
          },
          "execution_count": 54,
          "metadata": {},
          "output_type": "execute_result"
        }
      ],
      "source": [
        "dados_co2_sheets = pd.read_csv(url)\n",
        "dados_co2_sheets.head()"
      ]
    },
    {
      "cell_type": "code",
      "execution_count": 55,
      "metadata": {},
      "outputs": [],
      "source": [
        "# Leitura da aba 'emissoes_percapita'\n",
        "sheet_name = 'emissoes_percapita'\n",
        "url_percapita = f'https://docs.google.com/spreadsheets/d/{sheet_id}/gviz/tq?tqx=out:csv&sheet={sheet_name}'"
      ]
    },
    {
      "cell_type": "code",
      "execution_count": 56,
      "metadata": {},
      "outputs": [
        {
          "data": {
            "application/vnd.microsoft.datawrangler.viewer.v0+json": {
              "columns": [
                {
                  "name": "index",
                  "rawType": "int64",
                  "type": "integer"
                },
                {
                  "name": "País",
                  "rawType": "object",
                  "type": "string"
                },
                {
                  "name": "ISO 3166-1 alpha-3",
                  "rawType": "object",
                  "type": "string"
                },
                {
                  "name": "Ano",
                  "rawType": "int64",
                  "type": "integer"
                },
                {
                  "name": "Total",
                  "rawType": "object",
                  "type": "unknown"
                },
                {
                  "name": "Carvão",
                  "rawType": "object",
                  "type": "unknown"
                },
                {
                  "name": "Óleo",
                  "rawType": "object",
                  "type": "unknown"
                },
                {
                  "name": "Gás",
                  "rawType": "object",
                  "type": "unknown"
                },
                {
                  "name": "Cimento",
                  "rawType": "object",
                  "type": "unknown"
                },
                {
                  "name": "Queima",
                  "rawType": "object",
                  "type": "unknown"
                },
                {
                  "name": "Outro",
                  "rawType": "float64",
                  "type": "float"
                }
              ],
              "conversionMethod": "pd.DataFrame",
              "ref": "b8ac725a-7d92-455c-becf-1fe17beca608",
              "rows": [
                [
                  "0",
                  "Afeganistão",
                  "AFG",
                  "1750",
                  null,
                  null,
                  null,
                  null,
                  null,
                  null,
                  null
                ],
                [
                  "1",
                  "Afeganistão",
                  "AFG",
                  "1751",
                  null,
                  null,
                  null,
                  null,
                  null,
                  null,
                  null
                ],
                [
                  "2",
                  "Afeganistão",
                  "AFG",
                  "1752",
                  null,
                  null,
                  null,
                  null,
                  null,
                  null,
                  null
                ],
                [
                  "3",
                  "Afeganistão",
                  "AFG",
                  "1753",
                  null,
                  null,
                  null,
                  null,
                  null,
                  null,
                  null
                ],
                [
                  "4",
                  "Afeganistão",
                  "AFG",
                  "1754",
                  null,
                  null,
                  null,
                  null,
                  null,
                  null,
                  null
                ]
              ],
              "shape": {
                "columns": 10,
                "rows": 5
              }
            },
            "text/html": [
              "<div>\n",
              "<style scoped>\n",
              "    .dataframe tbody tr th:only-of-type {\n",
              "        vertical-align: middle;\n",
              "    }\n",
              "\n",
              "    .dataframe tbody tr th {\n",
              "        vertical-align: top;\n",
              "    }\n",
              "\n",
              "    .dataframe thead th {\n",
              "        text-align: right;\n",
              "    }\n",
              "</style>\n",
              "<table border=\"1\" class=\"dataframe\">\n",
              "  <thead>\n",
              "    <tr style=\"text-align: right;\">\n",
              "      <th></th>\n",
              "      <th>País</th>\n",
              "      <th>ISO 3166-1 alpha-3</th>\n",
              "      <th>Ano</th>\n",
              "      <th>Total</th>\n",
              "      <th>Carvão</th>\n",
              "      <th>Óleo</th>\n",
              "      <th>Gás</th>\n",
              "      <th>Cimento</th>\n",
              "      <th>Queima</th>\n",
              "      <th>Outro</th>\n",
              "    </tr>\n",
              "  </thead>\n",
              "  <tbody>\n",
              "    <tr>\n",
              "      <th>0</th>\n",
              "      <td>Afeganistão</td>\n",
              "      <td>AFG</td>\n",
              "      <td>1750</td>\n",
              "      <td>NaN</td>\n",
              "      <td>NaN</td>\n",
              "      <td>NaN</td>\n",
              "      <td>NaN</td>\n",
              "      <td>NaN</td>\n",
              "      <td>NaN</td>\n",
              "      <td>NaN</td>\n",
              "    </tr>\n",
              "    <tr>\n",
              "      <th>1</th>\n",
              "      <td>Afeganistão</td>\n",
              "      <td>AFG</td>\n",
              "      <td>1751</td>\n",
              "      <td>NaN</td>\n",
              "      <td>NaN</td>\n",
              "      <td>NaN</td>\n",
              "      <td>NaN</td>\n",
              "      <td>NaN</td>\n",
              "      <td>NaN</td>\n",
              "      <td>NaN</td>\n",
              "    </tr>\n",
              "    <tr>\n",
              "      <th>2</th>\n",
              "      <td>Afeganistão</td>\n",
              "      <td>AFG</td>\n",
              "      <td>1752</td>\n",
              "      <td>NaN</td>\n",
              "      <td>NaN</td>\n",
              "      <td>NaN</td>\n",
              "      <td>NaN</td>\n",
              "      <td>NaN</td>\n",
              "      <td>NaN</td>\n",
              "      <td>NaN</td>\n",
              "    </tr>\n",
              "    <tr>\n",
              "      <th>3</th>\n",
              "      <td>Afeganistão</td>\n",
              "      <td>AFG</td>\n",
              "      <td>1753</td>\n",
              "      <td>NaN</td>\n",
              "      <td>NaN</td>\n",
              "      <td>NaN</td>\n",
              "      <td>NaN</td>\n",
              "      <td>NaN</td>\n",
              "      <td>NaN</td>\n",
              "      <td>NaN</td>\n",
              "    </tr>\n",
              "    <tr>\n",
              "      <th>4</th>\n",
              "      <td>Afeganistão</td>\n",
              "      <td>AFG</td>\n",
              "      <td>1754</td>\n",
              "      <td>NaN</td>\n",
              "      <td>NaN</td>\n",
              "      <td>NaN</td>\n",
              "      <td>NaN</td>\n",
              "      <td>NaN</td>\n",
              "      <td>NaN</td>\n",
              "      <td>NaN</td>\n",
              "    </tr>\n",
              "  </tbody>\n",
              "</table>\n",
              "</div>"
            ],
            "text/plain": [
              "          País ISO 3166-1 alpha-3   Ano Total Carvão Óleo  Gás Cimento Queima  \\\n",
              "0  Afeganistão                AFG  1750   NaN    NaN  NaN  NaN     NaN    NaN   \n",
              "1  Afeganistão                AFG  1751   NaN    NaN  NaN  NaN     NaN    NaN   \n",
              "2  Afeganistão                AFG  1752   NaN    NaN  NaN  NaN     NaN    NaN   \n",
              "3  Afeganistão                AFG  1753   NaN    NaN  NaN  NaN     NaN    NaN   \n",
              "4  Afeganistão                AFG  1754   NaN    NaN  NaN  NaN     NaN    NaN   \n",
              "\n",
              "   Outro  \n",
              "0    NaN  \n",
              "1    NaN  \n",
              "2    NaN  \n",
              "3    NaN  \n",
              "4    NaN  "
            ]
          },
          "execution_count": 56,
          "metadata": {},
          "output_type": "execute_result"
        }
      ],
      "source": [
        "percapita_sheets = pd.read_csv(url_percapita)\n",
        "percapita_sheets.head()"
      ]
    },
    {
      "cell_type": "code",
      "execution_count": 57,
      "metadata": {},
      "outputs": [],
      "source": [
        "# Leitura da aba 'fontes'\n",
        "sheet_name = 'fontes'\n",
        "url_fontes = f'https://docs.google.com/spreadsheets/d/{sheet_id}/gviz/tq?tqx=out:csv&sheet={sheet_name}'"
      ]
    },
    {
      "cell_type": "code",
      "execution_count": 58,
      "metadata": {},
      "outputs": [
        {
          "data": {
            "application/vnd.microsoft.datawrangler.viewer.v0+json": {
              "columns": [
                {
                  "name": "index",
                  "rawType": "int64",
                  "type": "integer"
                },
                {
                  "name": "País",
                  "rawType": "object",
                  "type": "string"
                },
                {
                  "name": "ISO 3166-1 alpha-3",
                  "rawType": "object",
                  "type": "string"
                },
                {
                  "name": "Ano",
                  "rawType": "int64",
                  "type": "integer"
                },
                {
                  "name": "Total",
                  "rawType": "object",
                  "type": "string"
                },
                {
                  "name": "Carvão",
                  "rawType": "object",
                  "type": "string"
                },
                {
                  "name": "Oléo",
                  "rawType": "object",
                  "type": "string"
                },
                {
                  "name": "Gás",
                  "rawType": "object",
                  "type": "string"
                },
                {
                  "name": "Cimento",
                  "rawType": "object",
                  "type": "string"
                },
                {
                  "name": "Queima",
                  "rawType": "object",
                  "type": "string"
                },
                {
                  "name": "Outro",
                  "rawType": "object",
                  "type": "string"
                },
                {
                  "name": "Per Capita",
                  "rawType": "object",
                  "type": "string"
                }
              ],
              "conversionMethod": "pd.DataFrame",
              "ref": "cc43570e-e586-4247-a56e-feb1308faee8",
              "rows": [
                [
                  "0",
                  "Afeganistão",
                  "AFG",
                  "1750",
                  "[NONE]",
                  "[NONE]",
                  "[NONE]",
                  "[NONE]",
                  "[NONE]",
                  "[NONE]",
                  "[NONE]",
                  "[NONE]"
                ],
                [
                  "1",
                  "Afeganistão",
                  "AFG",
                  "1751",
                  "[NONE]",
                  "[NONE]",
                  "[NONE]",
                  "[NONE]",
                  "[NONE]",
                  "[NONE]",
                  "[NONE]",
                  "[NONE]"
                ],
                [
                  "2",
                  "Afeganistão",
                  "AFG",
                  "1752",
                  "[NONE]",
                  "[NONE]",
                  "[NONE]",
                  "[NONE]",
                  "[NONE]",
                  "[NONE]",
                  "[NONE]",
                  "[NONE]"
                ],
                [
                  "3",
                  "Afeganistão",
                  "AFG",
                  "1753",
                  "[NONE]",
                  "[NONE]",
                  "[NONE]",
                  "[NONE]",
                  "[NONE]",
                  "[NONE]",
                  "[NONE]",
                  "[NONE]"
                ],
                [
                  "4",
                  "Afeganistão",
                  "AFG",
                  "1754",
                  "[NONE]",
                  "[NONE]",
                  "[NONE]",
                  "[NONE]",
                  "[NONE]",
                  "[NONE]",
                  "[NONE]",
                  "[NONE]"
                ]
              ],
              "shape": {
                "columns": 11,
                "rows": 5
              }
            },
            "text/html": [
              "<div>\n",
              "<style scoped>\n",
              "    .dataframe tbody tr th:only-of-type {\n",
              "        vertical-align: middle;\n",
              "    }\n",
              "\n",
              "    .dataframe tbody tr th {\n",
              "        vertical-align: top;\n",
              "    }\n",
              "\n",
              "    .dataframe thead th {\n",
              "        text-align: right;\n",
              "    }\n",
              "</style>\n",
              "<table border=\"1\" class=\"dataframe\">\n",
              "  <thead>\n",
              "    <tr style=\"text-align: right;\">\n",
              "      <th></th>\n",
              "      <th>País</th>\n",
              "      <th>ISO 3166-1 alpha-3</th>\n",
              "      <th>Ano</th>\n",
              "      <th>Total</th>\n",
              "      <th>Carvão</th>\n",
              "      <th>Oléo</th>\n",
              "      <th>Gás</th>\n",
              "      <th>Cimento</th>\n",
              "      <th>Queima</th>\n",
              "      <th>Outro</th>\n",
              "      <th>Per Capita</th>\n",
              "    </tr>\n",
              "  </thead>\n",
              "  <tbody>\n",
              "    <tr>\n",
              "      <th>0</th>\n",
              "      <td>Afeganistão</td>\n",
              "      <td>AFG</td>\n",
              "      <td>1750</td>\n",
              "      <td>[NONE]</td>\n",
              "      <td>[NONE]</td>\n",
              "      <td>[NONE]</td>\n",
              "      <td>[NONE]</td>\n",
              "      <td>[NONE]</td>\n",
              "      <td>[NONE]</td>\n",
              "      <td>[NONE]</td>\n",
              "      <td>[NONE]</td>\n",
              "    </tr>\n",
              "    <tr>\n",
              "      <th>1</th>\n",
              "      <td>Afeganistão</td>\n",
              "      <td>AFG</td>\n",
              "      <td>1751</td>\n",
              "      <td>[NONE]</td>\n",
              "      <td>[NONE]</td>\n",
              "      <td>[NONE]</td>\n",
              "      <td>[NONE]</td>\n",
              "      <td>[NONE]</td>\n",
              "      <td>[NONE]</td>\n",
              "      <td>[NONE]</td>\n",
              "      <td>[NONE]</td>\n",
              "    </tr>\n",
              "    <tr>\n",
              "      <th>2</th>\n",
              "      <td>Afeganistão</td>\n",
              "      <td>AFG</td>\n",
              "      <td>1752</td>\n",
              "      <td>[NONE]</td>\n",
              "      <td>[NONE]</td>\n",
              "      <td>[NONE]</td>\n",
              "      <td>[NONE]</td>\n",
              "      <td>[NONE]</td>\n",
              "      <td>[NONE]</td>\n",
              "      <td>[NONE]</td>\n",
              "      <td>[NONE]</td>\n",
              "    </tr>\n",
              "    <tr>\n",
              "      <th>3</th>\n",
              "      <td>Afeganistão</td>\n",
              "      <td>AFG</td>\n",
              "      <td>1753</td>\n",
              "      <td>[NONE]</td>\n",
              "      <td>[NONE]</td>\n",
              "      <td>[NONE]</td>\n",
              "      <td>[NONE]</td>\n",
              "      <td>[NONE]</td>\n",
              "      <td>[NONE]</td>\n",
              "      <td>[NONE]</td>\n",
              "      <td>[NONE]</td>\n",
              "    </tr>\n",
              "    <tr>\n",
              "      <th>4</th>\n",
              "      <td>Afeganistão</td>\n",
              "      <td>AFG</td>\n",
              "      <td>1754</td>\n",
              "      <td>[NONE]</td>\n",
              "      <td>[NONE]</td>\n",
              "      <td>[NONE]</td>\n",
              "      <td>[NONE]</td>\n",
              "      <td>[NONE]</td>\n",
              "      <td>[NONE]</td>\n",
              "      <td>[NONE]</td>\n",
              "      <td>[NONE]</td>\n",
              "    </tr>\n",
              "  </tbody>\n",
              "</table>\n",
              "</div>"
            ],
            "text/plain": [
              "          País ISO 3166-1 alpha-3   Ano   Total  Carvão    Oléo     Gás  \\\n",
              "0  Afeganistão                AFG  1750  [NONE]  [NONE]  [NONE]  [NONE]   \n",
              "1  Afeganistão                AFG  1751  [NONE]  [NONE]  [NONE]  [NONE]   \n",
              "2  Afeganistão                AFG  1752  [NONE]  [NONE]  [NONE]  [NONE]   \n",
              "3  Afeganistão                AFG  1753  [NONE]  [NONE]  [NONE]  [NONE]   \n",
              "4  Afeganistão                AFG  1754  [NONE]  [NONE]  [NONE]  [NONE]   \n",
              "\n",
              "  Cimento  Queima   Outro Per Capita  \n",
              "0  [NONE]  [NONE]  [NONE]     [NONE]  \n",
              "1  [NONE]  [NONE]  [NONE]     [NONE]  \n",
              "2  [NONE]  [NONE]  [NONE]     [NONE]  \n",
              "3  [NONE]  [NONE]  [NONE]     [NONE]  \n",
              "4  [NONE]  [NONE]  [NONE]     [NONE]  "
            ]
          },
          "execution_count": 58,
          "metadata": {},
          "output_type": "execute_result"
        }
      ],
      "source": [
        "fontes_sheets = pd.read_csv(url_fontes)\n",
        "fontes_sheets.head()"
      ]
    }
  ],
  "metadata": {
    "colab": {
      "provenance": []
    },
    "kernelspec": {
      "display_name": "base",
      "language": "python",
      "name": "python3"
    },
    "language_info": {
      "codemirror_mode": {
        "name": "ipython",
        "version": 3
      },
      "file_extension": ".py",
      "mimetype": "text/x-python",
      "name": "python",
      "nbconvert_exporter": "python",
      "pygments_lexer": "ipython3",
      "version": "3.12.7"
    }
  },
  "nbformat": 4,
  "nbformat_minor": 0
}
